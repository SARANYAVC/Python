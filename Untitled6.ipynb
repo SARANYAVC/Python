{
  "nbformat": 4,
  "nbformat_minor": 0,
  "metadata": {
    "colab": {
      "provenance": [],
      "authorship_tag": "ABX9TyN4cHezlNh/keq/8omH6ySW",
      "include_colab_link": true
    },
    "kernelspec": {
      "name": "python3",
      "display_name": "Python 3"
    },
    "language_info": {
      "name": "python"
    }
  },
  "cells": [
    {
      "cell_type": "markdown",
      "metadata": {
        "id": "view-in-github",
        "colab_type": "text"
      },
      "source": [
        "<a href=\"https://colab.research.google.com/github/SARANYAVC/Python/blob/main/Untitled6.ipynb\" target=\"_parent\"><img src=\"https://colab.research.google.com/assets/colab-badge.svg\" alt=\"Open In Colab\"/></a>"
      ]
    },
    {
      "cell_type": "code",
      "execution_count": null,
      "metadata": {
        "id": "EV-IB8WS-Pb-"
      },
      "outputs": [],
      "source": []
    },
    {
      "cell_type": "markdown",
      "source": [],
      "metadata": {
        "id": "XFCffEq8-RGR"
      }
    },
    {
      "cell_type": "markdown",
      "source": [
        "                                                                                      "
      ],
      "metadata": {
        "id": "3GwkNn5w-js4"
      }
    },
    {
      "cell_type": "code",
      "source": [
        "#Challenge 1: Square Numbers and Return Their Sum\n",
        "class Point1:\n",
        "\n",
        "    def __init__(self,x,y,z):\n",
        "\n",
        "        self.x = x\n",
        "\n",
        "        self.y = y\n",
        "\n",
        "        self.z = z\n",
        "\n",
        "    def sqSum(self):\n",
        "\n",
        "        return(self.x**2+self.y**2+self.z**2)\n",
        "\n",
        "obj=Point1(9,15,47)\n",
        "\n",
        "print(obj.sqSum())"
      ],
      "metadata": {
        "colab": {
          "base_uri": "https://localhost:8080/"
        },
        "id": "pnh9IqL1-z1x",
        "outputId": "59811f2a-4a18-4239-938a-5586d6a2ac9c"
      },
      "execution_count": 2,
      "outputs": [
        {
          "output_type": "stream",
          "name": "stdout",
          "text": [
            "2515\n"
          ]
        }
      ]
    },
    {
      "cell_type": "code",
      "source": [
        "#Challenge 2: Implement a Calculator Class\n",
        "class Calculator:\n",
        "\n",
        "    def __init__(self,x,y):\n",
        "\n",
        "        self.x = x\n",
        "\n",
        "        self.y = y\n",
        "\n",
        "    def add(self):\n",
        "\n",
        "        return self.y+self.x\n",
        "\n",
        "    def subtract(self):\n",
        "\n",
        "        return self.y-self.x\n",
        "\n",
        "    def multiply(self):\n",
        "\n",
        "        return self.y*self.x\n",
        "\n",
        "    def divide(self):\n",
        "\n",
        "        return self.y/self.x\n",
        "\n",
        "obj = Calculator(100,57)\n",
        "\n",
        "print(obj.add())\n",
        "\n",
        "print(obj.subtract())\n",
        "\n",
        "print(obj.multiply())\n",
        "\n",
        "print(obj.divide())\n",
        ""
      ],
      "metadata": {
        "colab": {
          "base_uri": "https://localhost:8080/"
        },
        "id": "7laU1g1w-5O3",
        "outputId": "7e7c3f5d-65e4-4d0a-fcc9-165ecd72f9fd"
      },
      "execution_count": 3,
      "outputs": [
        {
          "output_type": "stream",
          "name": "stdout",
          "text": [
            "157\n",
            "-43\n",
            "5700\n",
            "0.57\n"
          ]
        }
      ]
    },
    {
      "cell_type": "code",
      "source": [
        "#Challenge 3: Implement the Complete Student Class\n",
        "class Student:\n",
        "\n",
        "    def __init__(self,name=None,roll_num=None):\n",
        "\n",
        "        self.__student_name=name\n",
        "\n",
        "        self.__roll_number=roll_num\n",
        "\n",
        "    def setName(self,name):\n",
        "\n",
        "        self.__student_name=name\n",
        "\n",
        "    def getName(self):\n",
        "\n",
        "        return(self.__student_name)\n",
        "\n",
        "    def setRollNumber(self,roll_num):\n",
        "\n",
        "        self.__roll_number=roll_num\n",
        "\n",
        "    def getRollNumber(self):\n",
        "\n",
        "        return(self.__roll_number)\n",
        "\n",
        "s1=Student()\n",
        "\n",
        "print(s1.getName())\n",
        "\n",
        "s1.setName(\"Aishwarya\")\n",
        "\n",
        "print(s1.getName())\n",
        "\n",
        "print(s1.getRollNumber())\n",
        "\n",
        "s1.setRollNumber(500)\n",
        "\n",
        "print(s1.getRollNumber())"
      ],
      "metadata": {
        "colab": {
          "base_uri": "https://localhost:8080/"
        },
        "id": "2H87GrXB_Cln",
        "outputId": "c88edd47-73f6-47d2-9b59-a4d2ae17dcca"
      },
      "execution_count": 4,
      "outputs": [
        {
          "output_type": "stream",
          "name": "stdout",
          "text": [
            "None\n",
            "Aishwarya\n",
            "None\n",
            "500\n"
          ]
        }
      ]
    },
    {
      "cell_type": "code",
      "source": [
        "#Challenge 4: Implement a Banking Account\n",
        "class Account:\n",
        "\n",
        "    def __init__(self,title=None,Balance=0):\n",
        "\n",
        "        self.title=title\n",
        "\n",
        "        self.Balance=Balance\n",
        "\n",
        "class SavingsAccount(Account):\n",
        "\n",
        "    def __init__(self,title=None,Balance=0,interestRate=0):\n",
        "\n",
        "        super().__init__(title,Balance)\n",
        "\n",
        "        self.interestRate=interestRate\n",
        "\n",
        "obj1=Account(\"Ajay\",250)\n",
        "\n",
        "obj2=SavingsAccount(\"Ajay\",600,10)\n",
        "\n",
        "print(obj2.title)\n",
        "\n",
        "print(obj2.Balance)\n",
        "\n",
        "print(obj2.interestRate)"
      ],
      "metadata": {
        "colab": {
          "base_uri": "https://localhost:8080/"
        },
        "id": "xeqgU16e_L86",
        "outputId": "ac1109a1-a67c-4048-dac3-afdb9b2cb01b"
      },
      "execution_count": 5,
      "outputs": [
        {
          "output_type": "stream",
          "name": "stdout",
          "text": [
            "Ajay\n",
            "600\n",
            "10\n"
          ]
        }
      ]
    },
    {
      "cell_type": "code",
      "source": [
        "#Challenge 5: Handling a Bank Account\n",
        "class Account:\n",
        "\n",
        "    def __init__(self, title=None, balance=0):\n",
        "\n",
        "        self.title = title\n",
        "\n",
        "        self.balance = balance\n",
        "\n",
        "    def withdrawal(self, amount):\n",
        "\n",
        "        self.balance-=amount\n",
        "\n",
        "    def deposit(self, amount):\n",
        "\n",
        "        self.balance+=amount\n",
        "\n",
        "    def getBalance(self):\n",
        "\n",
        "        return self.balance\n",
        "\n",
        "class SavingsAccount(Account):\n",
        "\n",
        "    def __init__(self, title=None, balance=0, interestRate=0):\n",
        "\n",
        "            super().__init__(title, balance)\n",
        "\n",
        "            self.interestRate = interestRate\n",
        "\n",
        "    def interestAmount(self):\n",
        "\n",
        "        return(self.interestRate*self.getBalance())/100\n",
        "\n",
        "obj1 = SavingsAccount(\"AishAj\", 2000, 5)   # initializing a SavingsAccount object\n",
        "\n",
        "print(f\"Account holder Name:{obj1.title}\")\n",
        "\n",
        "print(f\"Account Balance: {obj1.getBalance()}\")\n",
        "\n",
        "obj1.deposit(500)\n",
        "\n",
        "print(f\"Account Balance after deposit: {obj1.getBalance()}\")\n",
        "\n",
        "obj1.withdrawal(100)\n",
        "\n",
        "print(f\"Account Balance after withdrawal: {obj1.getBalance()}\")\n",
        "\n",
        "print(f\"Interest for the balance amount:{obj1.interestAmount()}\")\n"
      ],
      "metadata": {
        "colab": {
          "base_uri": "https://localhost:8080/"
        },
        "id": "_kJRFYdW_WUK",
        "outputId": "5cb240ff-1bef-46b8-8dba-d0d1ed197eaa"
      },
      "execution_count": 6,
      "outputs": [
        {
          "output_type": "stream",
          "name": "stdout",
          "text": [
            "Account holder Name:AishAj\n",
            "Account Balance: 2000\n",
            "Account Balance after deposit: 2500\n",
            "Account Balance after withdrawal: 2400\n",
            "Interest for the balance amount:120.0\n"
          ]
        }
      ]
    }
  ]
}