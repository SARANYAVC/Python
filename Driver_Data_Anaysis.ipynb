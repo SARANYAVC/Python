{
  "nbformat": 4,
  "nbformat_minor": 0,
  "metadata": {
    "colab": {
      "provenance": [],
      "authorship_tag": "ABX9TyOGIPA9901zWTHmm82meIU7",
      "include_colab_link": true
    },
    "kernelspec": {
      "name": "python3",
      "display_name": "Python 3"
    },
    "language_info": {
      "name": "python"
    }
  },
  "cells": [
    {
      "cell_type": "markdown",
      "metadata": {
        "id": "view-in-github",
        "colab_type": "text"
      },
      "source": [
        "<a href=\"https://colab.research.google.com/github/SARANYAVC/Python/blob/main/Driver_Data_Anaysis.ipynb\" target=\"_parent\"><img src=\"https://colab.research.google.com/assets/colab-badge.svg\" alt=\"Open In Colab\"/></a>"
      ]
    },
    {
      "cell_type": "code",
      "execution_count": null,
      "metadata": {
        "id": "CWLoQ2uN1c1S"
      },
      "outputs": [],
      "source": [
        "\n"
      ]
    },
    {
      "cell_type": "markdown",
      "source": [
        "Driver Table Creation and Data Load from hdfs"
      ],
      "metadata": {
        "id": "Yl96O8uq1757"
      }
    },
    {
      "cell_type": "code",
      "source": [
        "create database saranya;\n",
        "use saranya;"
      ],
      "metadata": {
        "id": "mJcgRqt_19k_"
      },
      "execution_count": null,
      "outputs": []
    },
    {
      "cell_type": "markdown",
      "source": [
        "\n",
        "CREATE EXTERNAL TABLE driver_info1 (\n",
        "    driverId INT,\n",
        "    name STRING,\n",
        "    ssn STRING,\n",
        "    location STRING,\n",
        "    certified BOOLEAN,\n",
        "    wage_plan STRING\n",
        ")\n",
        "ROW FORMAT DELIMITED\n",
        "FIELDS TERMINATED BY ','\n",
        "STORED AS TEXTFILE\n",
        "tblproperties(\n",
        "\"skip.header.line.count\"=\"1\"\n",
        ");"
      ],
      "metadata": {
        "id": "sq5F3At91_tN"
      }
    },
    {
      "cell_type": "code",
      "source": [
        "LOAD DATA local INPATH 'drivers.csv' OVERWRITE INTO TABLE driver_info1;"
      ],
      "metadata": {
        "id": "raIhfbBC2EGY"
      },
      "execution_count": null,
      "outputs": []
    },
    {
      "cell_type": "markdown",
      "source": [
        "Timeshet table creation and data load"
      ],
      "metadata": {
        "id": "s7doXdyi2I12"
      }
    },
    {
      "cell_type": "code",
      "source": [
        "\n",
        "use saranya;\n",
        "CREATE EXTERNAL TABLE timesheet_data1 (\n",
        "    driverId INT,\n",
        "    week INT,\n",
        "    hours_logged DOUBLE,\n",
        "    miles_logged DOUBLE\n",
        ")\n",
        "ROW FORMAT DELIMITED\n",
        "FIELDS TERMINATED BY ','\n",
        "STORED AS TEXTFILE;\n",
        "tblproperties(\n",
        "\"skip.header.line.count\"=\"1\"\n",
        ");"
      ],
      "metadata": {
        "id": "jgwJRgzR2LjG"
      },
      "execution_count": null,
      "outputs": []
    },
    {
      "cell_type": "markdown",
      "source": [
        "\n",
        "LOAD DATA local INPATH 'timesheet.csv' OVERWRITE INTO TABLE timesheet_data1;"
      ],
      "metadata": {
        "id": "0TFKVzdj2OG4"
      }
    },
    {
      "cell_type": "markdown",
      "source": [
        "Q1.How many total hours and miles logged by each driver"
      ],
      "metadata": {
        "id": "CmDFW5Bk2Qol"
      }
    },
    {
      "cell_type": "code",
      "source": [
        "\n",
        "SELECT\n",
        "    t.driverId,\n",
        "    SUM(t.hours_logged) AS total_hours_logged,\n",
        "    SUM(t.miles_logged) AS total_miles_logged\n",
        "FROM timesheet_data1 t\n",
        "JOIN driver_info1 d ON t.driverId = d.driverId\n",
        "GROUP BY t.driverId;\n",
        ""
      ],
      "metadata": {
        "id": "VnTX6TWH2TCK"
      },
      "execution_count": null,
      "outputs": []
    },
    {
      "cell_type": "markdown",
      "source": [
        "Q2.Print the name of the driver in the above query"
      ],
      "metadata": {
        "id": "B64zapdk2VR9"
      }
    },
    {
      "cell_type": "code",
      "source": [
        "\n",
        "SELECT\n",
        "    t.driverId,\n",
        "    d.name,\n",
        "    SUM(t.hours_logged) AS total_hours_logged,\n",
        "    SUM(t.miles_logged) AS total_miles_logged\n",
        "FROM timesheet_data1 t\n",
        "JOIN driver_info1 d ON t.driverId = d.driverId\n",
        "GROUP BY t.driverId, d.name;"
      ],
      "metadata": {
        "id": "qL2-9wfY2XVx"
      },
      "execution_count": null,
      "outputs": []
    },
    {
      "cell_type": "markdown",
      "source": [
        "Q3.Write the above query output in to hdfs director"
      ],
      "metadata": {
        "id": "trrFL0tf2ZWz"
      }
    },
    {
      "cell_type": "code",
      "source": [
        "INSERT OVERWRITE DIRECTORY '/user/avulaaruser1/driverinfoquery1'\n",
        "SELECT\n",
        "    t.driverId,\n",
        "    d.name,\n",
        "    SUM(t.hours_logged) AS total_hours_logged,\n",
        "    SUM(t.miles_logged) AS total_miles_logged\n",
        "FROM timesheet_data1 t\n",
        "JOIN driver_info1 d ON t.driverId = d.driverId\n",
        "GROUP BY t.driverId, d.name;"
      ],
      "metadata": {
        "id": "PH-MFqTr2bPN"
      },
      "execution_count": null,
      "outputs": []
    }
  ]
}