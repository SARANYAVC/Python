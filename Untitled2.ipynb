{
  "nbformat": 4,
  "nbformat_minor": 0,
  "metadata": {
    "colab": {
      "provenance": [],
      "authorship_tag": "ABX9TyPxOkN2U5Lq8JC06/9X74my",
      "include_colab_link": true
    },
    "kernelspec": {
      "name": "python3",
      "display_name": "Python 3"
    },
    "language_info": {
      "name": "python"
    }
  },
  "cells": [
    {
      "cell_type": "markdown",
      "metadata": {
        "id": "view-in-github",
        "colab_type": "text"
      },
      "source": [
        "<a href=\"https://colab.research.google.com/github/SARANYAVC/Python/blob/main/Untitled2.ipynb\" target=\"_parent\"><img src=\"https://colab.research.google.com/assets/colab-badge.svg\" alt=\"Open In Colab\"/></a>"
      ]
    },
    {
      "cell_type": "code",
      "execution_count": 1,
      "metadata": {
        "colab": {
          "base_uri": "https://localhost:8080/"
        },
        "id": "GcizwkEY8Zvt",
        "outputId": "ee697f65-ff69-440f-ee27-28f861dec04c"
      },
      "outputs": [
        {
          "output_type": "stream",
          "name": "stdout",
          "text": [
            "Enter Number of calls:106\n",
            "Monthly Telephone Bill for again 50 extra calls 106 calls is Rs. 203.6\n"
          ]
        }
      ],
      "source": [
        "#Write a program that prompts the user to input number of calls and calculate the monthly telephone bills\n",
        "num_call=int(input(\"Enter Number of calls:\"))\n",
        "\n",
        "if num_call > 200:\n",
        "    print(\"Monthly Telephone Bill for more than 200 calls\",num_call,\"calls is Rs.\",(200+(50*0.60)+(50*0.50)+(num_call-200)*0.40))\n",
        "elif num_call > 150:\n",
        "    print(\"Monthly Telephone Bill for extra 50 calls\",num_call,\"calls is Rs.\",(200+(50*0.60)+(num_call-150)*0.50))\n",
        "elif num_call > 100:\n",
        "    print(\"Monthly Telephone Bill for again 50 extra calls\",num_call,\"calls is Rs.\",(200+(num_call-100)*0.60))\n",
        "else:\n",
        "    print(\"Monthly Telephone Bill for calls upto\",num_call,\"calls is Rs. 200\")"
      ]
    }
  ]
}