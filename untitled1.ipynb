{
  "nbformat": 4,
  "nbformat_minor": 0,
  "metadata": {
    "colab": {
      "provenance": [],
      "authorship_tag": "ABX9TyNkPeqR9KZtFvDoh5xLR2Xt",
      "include_colab_link": true
    },
    "kernelspec": {
      "name": "python3",
      "display_name": "Python 3"
    },
    "language_info": {
      "name": "python"
    }
  },
  "cells": [
    {
      "cell_type": "markdown",
      "metadata": {
        "id": "view-in-github",
        "colab_type": "text"
      },
      "source": [
        "<a href=\"https://colab.research.google.com/github/SARANYAVC/Python/blob/main/untitled1.ipynb\" target=\"_parent\"><img src=\"https://colab.research.google.com/assets/colab-badge.svg\" alt=\"Open In Colab\"/></a>"
      ]
    },
    {
      "cell_type": "code",
      "execution_count": null,
      "metadata": {
        "colab": {
          "base_uri": "https://localhost:8080/"
        },
        "id": "9vvBl5sD5EVa",
        "outputId": "3abcefd7-deeb-4849-a3af-26fe79643cf2"
      },
      "outputs": [
        {
          "output_type": "stream",
          "name": "stdout",
          "text": [
            "log_message=D:25 W:15\n",
            "10\n"
          ]
        }
      ],
      "source": [
        "#Write a program that computes the net amount of a bank account based on a transaction log from console input.\n",
        "\n",
        "Total_Dep=0\n",
        "Total_Wdraw=0\n",
        "count=0\n",
        "Temp_dep=\"\"\n",
        "Temp_Wdraw=\"\"\n",
        "\n",
        "log_message=input(\"log_message=\")\n",
        "for i in log_message:\n",
        "    if i=='D':\n",
        "        D=log_message[count+2:]\n",
        "        for dep in D:\n",
        "            if dep!=':' and dep!=' ':\n",
        "                Temp_dep=Temp_dep+dep\n",
        "            else:\n",
        "                break\n",
        "        Total_Dep=Total_Dep+int(Temp_dep)\n",
        "        Temp_dep=\"\"\n",
        "    elif i=='W':\n",
        "        W=log_message[count+2:]\n",
        "        for WD in W:\n",
        "            if WD!=':' and WD!=' ':\n",
        "                Temp_Wdraw=Temp_Wdraw+WD\n",
        "            else:\n",
        "                break\n",
        "        Total_Wdraw=Total_Wdraw+int(Temp_Wdraw)\n",
        "        Temp_Wdraw=\"\"\n",
        "    count+=1\n",
        "print(Total_Dep-Total_Wdraw)"
      ]
    }
  ]
}